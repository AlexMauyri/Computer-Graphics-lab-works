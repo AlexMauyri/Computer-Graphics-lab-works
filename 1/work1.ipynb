{
 "cells": [
  {
   "cell_type": "code",
   "execution_count": 18,
   "id": "483df79d-c8e7-409c-9dd3-51204ea80367",
   "metadata": {},
   "outputs": [],
   "source": [
    "import numpy as np\n",
    "import math\n",
    "from PIL import Image"
   ]
  },
  {
   "cell_type": "code",
   "execution_count": 7,
   "id": "1003599d-7476-4dc3-b8bc-29a03c490013",
   "metadata": {},
   "outputs": [],
   "source": [
    "matrix = np.zeros((600, 800), dtype = np.uint8)\n",
    "img = Image.fromarray(matrix, 'L')\n",
    "img.show()"
   ]
  },
  {
   "cell_type": "code",
   "execution_count": 8,
   "id": "7dd3c982-7c82-480a-9eeb-118b63250500",
   "metadata": {},
   "outputs": [],
   "source": [
    "matrix = np.full(shape=(600, 800), fill_value=255, dtype = np.uint8)\n",
    "img = Image.fromarray(matrix, 'L')\n",
    "img.show()"
   ]
  },
  {
   "cell_type": "code",
   "execution_count": 15,
   "id": "3a58edc0-47a1-42b1-8bdc-fd029cc41426",
   "metadata": {},
   "outputs": [],
   "source": [
    "matrix = np.full(shape=(600, 800, 3), fill_value=[255, 0, 0], dtype = np.uint8)\n",
    "img = Image.fromarray(matrix, 'RGB')\n",
    "img.show()"
   ]
  },
  {
   "cell_type": "code",
   "execution_count": 4,
   "id": "5144f02e-faac-4466-8006-1c40a920a2ba",
   "metadata": {},
   "outputs": [],
   "source": [
    "matrix = np.fromfunction(lambda x,y,z: x + y + z, (200, 200, 3), dtype = np.uint8)\n",
    "img = Image.fromarray(matrix, 'RGB')\n",
    "img.show()"
   ]
  },
  {
   "cell_type": "code",
   "execution_count": 10,
   "id": "7c3a86bb-1239-4b2f-bad9-625525199f4e",
   "metadata": {},
   "outputs": [],
   "source": [
    "def dotted_line(image, x0, y0, x1, y1, count, color):\n",
    "    step = 1.0/count\n",
    "    for t in np.arange (0, 1, step):\n",
    "        x = round ((1.0 - t)*x0 + t*x1)\n",
    "        y = round ((1.0 - t)*y0 + t*y1)\n",
    "        image[y, x] = color"
   ]
  },
  {
   "cell_type": "code",
   "execution_count": 14,
   "id": "0ab4930b-7d78-4c8b-9fc8-66dd35629390",
   "metadata": {},
   "outputs": [],
   "source": [
    "def dotted_line_v2(image, x0, y0, x1, y1, color):\n",
    "    pass"
   ]
  },
  {
   "cell_type": "code",
   "execution_count": 15,
   "id": "cc9b30c9-7896-4dc1-a7dd-98621588125d",
   "metadata": {},
   "outputs": [],
   "source": [
    "def x_loop_line(image, x0, y0, x1, y1, color):\n",
    "    pass"
   ]
  },
  {
   "cell_type": "code",
   "execution_count": 16,
   "id": "84c8c31a-c83e-43db-87c5-188b5b624fcd",
   "metadata": {},
   "outputs": [],
   "source": [
    "def x_loop_line_hotfix_1(image, x0, y0, x1, y1, color):\n",
    "    pass"
   ]
  },
  {
   "cell_type": "code",
   "execution_count": 17,
   "id": "3bd7f4d5-bf99-46ae-ba42-1fa23cf2229d",
   "metadata": {},
   "outputs": [],
   "source": [
    "def x_loop_line_hotfix_2(image, x0, y0, x1, y1, color):\n",
    "    pass"
   ]
  },
  {
   "cell_type": "code",
   "execution_count": 18,
   "id": "466c86b0-953d-4911-bf2d-2daa7418f2b1",
   "metadata": {},
   "outputs": [],
   "source": [
    "def x_loop_line_v2(image, x0, y0, x1, y1, color):\n",
    "    pass"
   ]
  },
  {
   "cell_type": "code",
   "execution_count": 19,
   "id": "85eb014c-326f-4f75-a7f6-c1a7093ce099",
   "metadata": {},
   "outputs": [],
   "source": [
    "def x_loop_line_v2_no_y_calc(image, x0, y0, x1, y1, color):\n",
    "    pass"
   ]
  },
  {
   "cell_type": "code",
   "execution_count": 20,
   "id": "eda22bbe-82aa-4689-8fb5-e66d9af36dd4",
   "metadata": {},
   "outputs": [],
   "source": [
    "def x_loop_line_v2_no_y_calc_v2(image, x0, y0, x1, y1, color):\n",
    "    pass"
   ]
  },
  {
   "cell_type": "code",
   "execution_count": 21,
   "id": "a8f5ee07-c261-4177-bef5-d19bc63700c2",
   "metadata": {},
   "outputs": [],
   "source": [
    "def bresenham_line(image, x0, y0, x1, y1, color):\n",
    "    pass "
   ]
  },
  {
   "cell_type": "code",
   "execution_count": 22,
   "id": "14057dfa-bd5f-41dd-b27b-ad7bd93e09b3",
   "metadata": {},
   "outputs": [],
   "source": [
    "matrix = np.zeros((200, 200), dtype = np.uint8)\n",
    "for i in range(13):\n",
    "    alpha = math.tau * i / 13\n",
    "    dotted_line(matrix, 100, 100, 100 + 95 * math.cos(alpha), 100 + 95 * math.sin(alpha), 1000, 255)\n",
    "img = Image.fromarray(matrix)\n",
    "img.show()"
   ]
  },
  {
   "cell_type": "code",
   "execution_count": 77,
   "id": "c2981799-2319-47e7-8b2f-a0d84605c8e4",
   "metadata": {},
   "outputs": [],
   "source": [
    "def process_obj_1(filename : str):    \n",
    "    with open(filename) as obj:\n",
    "        vertices_number = 0\n",
    "        faces_number = 0\n",
    "        \n",
    "        obj.seek(0, 2)\n",
    "        length = obj.tell()\n",
    "        obj.seek(0, 0)\n",
    "\n",
    "        while obj.tell() != length:\n",
    "            key = obj.readline().split()[0]\n",
    "            if key == 'v':\n",
    "                vertices_number += 1\n",
    "            elif key == 'f':\n",
    "                faces_number += 1\n",
    "\n",
    "        obj.seek(0, 0)\n",
    "        vertices = np.ndarray(shape=(vertices_number, 3), dtype=np.float64)\n",
    "        faces = np.ndarray(shape=(faces_number, 3), dtype=np.uint64)\n",
    "\n",
    "        while obj.tell() != length:\n",
    "            line = obj.readline().split()\n",
    "            if line[0] == 'v':\n",
    "                vertices_number -= 1\n",
    "                vertices[vertices_number] = [line[1], line[2], line[3]]\n",
    "            elif line[0] == 'f':\n",
    "                faces_number -= 1\n",
    "                faces[faces_number] = [line[1].split('/')[0], line[2].split('/')[0], line[3].split('/')[0]]\n",
    "        vertices = vertices[::-1]\n",
    "        faces = faces[::-1]\n",
    "        return vertices, faces"
   ]
  },
  {
   "cell_type": "code",
   "execution_count": 81,
   "id": "a6b74256-251a-43ea-b518-46db2d407464",
   "metadata": {},
   "outputs": [],
   "source": [
    "vertices, faces = process_obj_1('model_1.obj')"
   ]
  }
 ],
 "metadata": {
  "kernelspec": {
   "display_name": "Python 3 (ipykernel)",
   "language": "python",
   "name": "python3"
  },
  "language_info": {
   "codemirror_mode": {
    "name": "ipython",
    "version": 3
   },
   "file_extension": ".py",
   "mimetype": "text/x-python",
   "name": "python",
   "nbconvert_exporter": "python",
   "pygments_lexer": "ipython3",
   "version": "3.12.5"
  }
 },
 "nbformat": 4,
 "nbformat_minor": 5
}
