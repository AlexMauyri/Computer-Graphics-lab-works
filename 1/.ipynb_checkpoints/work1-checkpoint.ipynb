{
 "cells": [
  {
   "cell_type": "code",
   "execution_count": 2,
   "id": "483df79d-c8e7-409c-9dd3-51204ea80367",
   "metadata": {},
   "outputs": [],
   "source": [
    "import numpy as np\n",
    "from PIL import Image"
   ]
  },
  {
   "cell_type": "code",
   "execution_count": 7,
   "id": "1003599d-7476-4dc3-b8bc-29a03c490013",
   "metadata": {},
   "outputs": [],
   "source": [
    "matrix = np.zeros((600, 800), dtype = np.uint8)\n",
    "img = Image.fromarray(matrix, 'L')\n",
    "img.show()"
   ]
  },
  {
   "cell_type": "code",
   "execution_count": 8,
   "id": "7dd3c982-7c82-480a-9eeb-118b63250500",
   "metadata": {},
   "outputs": [],
   "source": [
    "matrix = np.full(shape=(600, 800), fill_value=255, dtype = np.uint8)\n",
    "img = Image.fromarray(matrix, 'L')\n",
    "img.show()"
   ]
  },
  {
   "cell_type": "code",
   "execution_count": 15,
   "id": "3a58edc0-47a1-42b1-8bdc-fd029cc41426",
   "metadata": {},
   "outputs": [],
   "source": [
    "matrix = np.full(shape=(600, 800, 3), fill_value=[255, 0, 0], dtype = np.uint8)\n",
    "img = Image.fromarray(matrix, 'RGB')\n",
    "img.show()"
   ]
  },
  {
   "cell_type": "code",
   "execution_count": 24,
   "id": "5144f02e-faac-4466-8006-1c40a920a2ba",
   "metadata": {},
   "outputs": [],
   "source": [
    "matrix = np.fromfunction(lambda x,y,z: x + y + z, (600, 800, 3), dtype = np.uint8)\n",
    "img = Image.fromarray(matrix, 'RGB')\n",
    "img.show()"
   ]
  },
  {
   "cell_type": "code",
   "execution_count": 25,
   "id": "7c3a86bb-1239-4b2f-bad9-625525199f4e",
   "metadata": {},
   "outputs": [],
   "source": [
    "def dotted_line(self, image, x0, y0, x1, y1, count, color):\n",
    "    pass"
   ]
  },
  {
   "cell_type": "code",
   "execution_count": 26,
   "id": "0ab4930b-7d78-4c8b-9fc8-66dd35629390",
   "metadata": {},
   "outputs": [],
   "source": [
    "def dotted_line_v2(self, image, x0, y0, x1, y1, color):\n",
    "    pass"
   ]
  },
  {
   "cell_type": "code",
   "execution_count": 27,
   "id": "cc9b30c9-7896-4dc1-a7dd-98621588125d",
   "metadata": {},
   "outputs": [],
   "source": [
    "def x_loop_line(self, image, x0, y0, x1, y1, color):\n",
    "    pass"
   ]
  },
  {
   "cell_type": "code",
   "execution_count": 28,
   "id": "84c8c31a-c83e-43db-87c5-188b5b624fcd",
   "metadata": {},
   "outputs": [],
   "source": [
    "def x_loop_line_hotfix_1(self, image, x0, y0, x1, y1, color):\n",
    "    pass"
   ]
  },
  {
   "cell_type": "code",
   "execution_count": 29,
   "id": "3bd7f4d5-bf99-46ae-ba42-1fa23cf2229d",
   "metadata": {},
   "outputs": [],
   "source": [
    "def x_loop_line_hotfix_2(self, image, x0, y0, x1, y1, color):\n",
    "    pass"
   ]
  },
  {
   "cell_type": "code",
   "execution_count": 30,
   "id": "466c86b0-953d-4911-bf2d-2daa7418f2b1",
   "metadata": {},
   "outputs": [],
   "source": [
    "def x_loop_line_v2(self, image, x0, y0, x1, y1, color):\n",
    "    pass"
   ]
  },
  {
   "cell_type": "code",
   "execution_count": 31,
   "id": "85eb014c-326f-4f75-a7f6-c1a7093ce099",
   "metadata": {},
   "outputs": [],
   "source": [
    "def x_loop_line_v2_no_y_calc(self, image, x0, y0, x1, y1, color):\n",
    "    pass"
   ]
  },
  {
   "cell_type": "code",
   "execution_count": 32,
   "id": "eda22bbe-82aa-4689-8fb5-e66d9af36dd4",
   "metadata": {},
   "outputs": [],
   "source": [
    "def x_loop_line_v2_no_y_calc_v2(self, image, x0, y0, x1, y1, color):\n",
    "    pass"
   ]
  },
  {
   "cell_type": "code",
   "execution_count": null,
   "id": "a8f5ee07-c261-4177-bef5-d19bc63700c2",
   "metadata": {},
   "outputs": [],
   "source": [
    "def bresenham_line(self, image, x0, y0, x1, y1, color):\n",
    "    pass"
   ]
  }
 ],
 "metadata": {
  "kernelspec": {
   "display_name": "Python 3 (ipykernel)",
   "language": "python",
   "name": "python3"
  },
  "language_info": {
   "codemirror_mode": {
    "name": "ipython",
    "version": 3
   },
   "file_extension": ".py",
   "mimetype": "text/x-python",
   "name": "python",
   "nbconvert_exporter": "python",
   "pygments_lexer": "ipython3",
   "version": "3.12.5"
  }
 },
 "nbformat": 4,
 "nbformat_minor": 5
}
