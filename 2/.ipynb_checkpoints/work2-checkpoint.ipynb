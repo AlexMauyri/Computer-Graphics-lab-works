{
 "cells": [
  {
   "cell_type": "code",
   "execution_count": 1,
   "id": "483df79d-c8e7-409c-9dd3-51204ea80367",
   "metadata": {},
   "outputs": [],
   "source": [
    "import numpy as np\n",
    "import math\n",
    "import random\n",
    "from PIL import Image"
   ]
  },
  {
   "cell_type": "markdown",
   "id": "60b2e07f-c110-4be7-ab9a-4775dda03006",
   "metadata": {},
   "source": [
    "## Задание 1"
   ]
  },
  {
   "cell_type": "code",
   "execution_count": 2,
   "id": "18c7b5e4-d79e-4def-8274-e7499036a2e8",
   "metadata": {},
   "outputs": [],
   "source": [
    "H = 600\n",
    "W = 800"
   ]
  },
  {
   "cell_type": "code",
   "execution_count": 87,
   "id": "1003599d-7476-4dc3-b8bc-29a03c490013",
   "metadata": {},
   "outputs": [],
   "source": [
    "matrix = np.zeros((H, W), dtype = np.uint8)\n",
    "img = Image.fromarray(matrix, 'L')\n",
    "img.save(\"8_bit_black.jpg\")"
   ]
  },
  {
   "cell_type": "code",
   "execution_count": 88,
   "id": "7dd3c982-7c82-480a-9eeb-118b63250500",
   "metadata": {},
   "outputs": [],
   "source": [
    "matrix = np.full(shape=(H, W), fill_value=255, dtype = np.uint8)\n",
    "img = Image.fromarray(matrix, 'L')\n",
    "img.save(\"8_bit_white.jpg\")"
   ]
  },
  {
   "cell_type": "code",
   "execution_count": 89,
   "id": "3a58edc0-47a1-42b1-8bdc-fd029cc41426",
   "metadata": {},
   "outputs": [],
   "source": [
    "matrix = np.full(shape=(H, W, 3), fill_value=[255, 0, 0], dtype = np.uint8)\n",
    "img = Image.fromarray(matrix, 'RGB')\n",
    "img.save(\"RGB_red.jpg\")"
   ]
  },
  {
   "cell_type": "code",
   "execution_count": 90,
   "id": "5144f02e-faac-4466-8006-1c40a920a2ba",
   "metadata": {},
   "outputs": [],
   "source": [
    "matrix = np.fromfunction(lambda x,y,z: x + y + z, (H, W, 3), dtype = np.uint8)\n",
    "img = Image.fromarray(matrix, 'RGB')\n",
    "img.save(\"RGB_gradient.jpg\")"
   ]
  },
  {
   "cell_type": "markdown",
   "id": "f85c6434-e67d-4188-a05c-089a0dd61071",
   "metadata": {},
   "source": [
    "## Задание 2"
   ]
  },
  {
   "cell_type": "code",
   "execution_count": 3,
   "id": "1a10bad2-637b-4c82-8e45-b25bb21d5ab2",
   "metadata": {},
   "outputs": [],
   "source": [
    "def create_img(function, filename):\n",
    "    matrix = np.zeros((200, 200), dtype = np.uint8)\n",
    "    for i in range(13):\n",
    "        alpha = math.tau * i / 13\n",
    "        function(matrix, 100, 100, 100 + 95 * math.cos(alpha), 100 + 95 * math.sin(alpha), 255)\n",
    "    img = Image.fromarray(matrix)\n",
    "    img.save(filename)"
   ]
  },
  {
   "cell_type": "code",
   "execution_count": 4,
   "id": "7c3a86bb-1239-4b2f-bad9-625525199f4e",
   "metadata": {},
   "outputs": [],
   "source": [
    "def dotted_line(image, x0, y0, x1, y1, count, color):\n",
    "    step = 1.0/count\n",
    "    for t in np.arange (0, 1, step):\n",
    "        x = round ((1.0 - t)*x0 + t*x1)\n",
    "        y = round ((1.0 - t)*y0 + t*y1)\n",
    "        image[y, x] = color"
   ]
  },
  {
   "cell_type": "code",
   "execution_count": 93,
   "id": "5bd18c91-fdc8-488b-951a-c4dbd99c64a2",
   "metadata": {},
   "outputs": [],
   "source": [
    "matrix = np.zeros((200, 200), dtype = np.uint8)\n",
    "for i in range(13):\n",
    "    alpha = math.tau * i / 13\n",
    "    dotted_line(matrix, 100, 100, 100 + 95 * math.cos(alpha), 100 + 95 * math.sin(alpha), 1000, 255)\n",
    "img = Image.fromarray(matrix)\n",
    "img.save(\"dotted_line.jpg\")"
   ]
  },
  {
   "cell_type": "code",
   "execution_count": 5,
   "id": "0ab4930b-7d78-4c8b-9fc8-66dd35629390",
   "metadata": {},
   "outputs": [],
   "source": [
    "def dotted_line_v2(image, x0, y0, x1, y1, color):\n",
    "    count = math.sqrt((x0 -x1)**2 + (y0 -y1)**2)\n",
    "    step = 1.0/count\n",
    "    for t in np.arange(0, 1, step):\n",
    "        x = round ((1.0-t)*x0 + t*x1)\n",
    "        y = round ((1.0-t)*y0 + t*y1)\n",
    "        image[y, x] = color"
   ]
  },
  {
   "cell_type": "code",
   "execution_count": 95,
   "id": "83168027-d815-4717-801d-5e09138a87e9",
   "metadata": {},
   "outputs": [],
   "source": [
    "create_img(dotted_line_v2, \"dotted_line_v2.jpg\")"
   ]
  },
  {
   "cell_type": "code",
   "execution_count": 6,
   "id": "cc9b30c9-7896-4dc1-a7dd-98621588125d",
   "metadata": {},
   "outputs": [],
   "source": [
    "def x_loop_line(image, x0, y0, x1, y1, color):\n",
    "    for x in range (round(x0), round(x1)):\n",
    "        t = (x-x0)/(x1 -x0)\n",
    "        y = round ((1.0-t)*y0 + t*y1)\n",
    "        image[y, x] = color"
   ]
  },
  {
   "cell_type": "code",
   "execution_count": 97,
   "id": "415505aa-52a5-479b-889c-57c887e13de5",
   "metadata": {},
   "outputs": [],
   "source": [
    "create_img(x_loop_line, \"x_loop_line.jpg\")"
   ]
  },
  {
   "cell_type": "code",
   "execution_count": 98,
   "id": "84c8c31a-c83e-43db-87c5-188b5b624fcd",
   "metadata": {},
   "outputs": [],
   "source": [
    "def x_loop_line_hotfix_1(image, x0, y0, x1, y1, color):\n",
    "    if (x0 > x1):\n",
    "        x0, x1 = x1, x0\n",
    "        y0, y1 = y1, y0\n",
    "    for x in range (round(x0), round(x1)):\n",
    "        t = (x-x0)/(x1 -x0)\n",
    "        y = round ((1.0-t)*y0 + t*y1)\n",
    "        image[y, x] = color"
   ]
  },
  {
   "cell_type": "code",
   "execution_count": 99,
   "id": "f5c72b7e-ec70-441d-a911-72d455163ce1",
   "metadata": {},
   "outputs": [],
   "source": [
    "create_img(x_loop_line_hotfix_1, \"x_loop_line_hotfix_1.jpg\")"
   ]
  },
  {
   "cell_type": "code",
   "execution_count": 100,
   "id": "3bd7f4d5-bf99-46ae-ba42-1fa23cf2229d",
   "metadata": {},
   "outputs": [],
   "source": [
    "def x_loop_line_hotfix_2(image, x0, y0, x1, y1, color):\n",
    "    xchange = False\n",
    "    if (abs(x0-x1) < abs(y0 -y1)):\n",
    "        x0, y0 = y0, x0\n",
    "        x1, y1 = y1, x1\n",
    "        xchange = True\n",
    "    for x in range (round(x0), round(x1)):\n",
    "        t = (x-x0)/(x1 -x0)\n",
    "        y = round ((1.0-t)*y0 + t*y1)\n",
    "        if (xchange):\n",
    "            image[x, y] = color\n",
    "        else:\n",
    "            image[y, x] = color"
   ]
  },
  {
   "cell_type": "code",
   "execution_count": 101,
   "id": "4aea4a2c-9eec-4fd5-bb36-2ace985d41bd",
   "metadata": {},
   "outputs": [],
   "source": [
    "create_img(x_loop_line_hotfix_2, \"x_loop_line_hotfix_2.jpg\")"
   ]
  },
  {
   "cell_type": "code",
   "execution_count": 102,
   "id": "466c86b0-953d-4911-bf2d-2daa7418f2b1",
   "metadata": {},
   "outputs": [],
   "source": [
    "def x_loop_line_v2(image, x0, y0, x1, y1, color):\n",
    "    xchange = False\n",
    "    if (abs(x0-x1) < abs(y0 -y1)):\n",
    "        x0, y0 = y0, x0\n",
    "        x1, y1 = y1, x1\n",
    "        xchange = True\n",
    "    if (x0 > x1):\n",
    "        x0, x1 = x1, x0\n",
    "        y0, y1 = y1, y0\n",
    "    for x in range (round(x0), round(x1)):\n",
    "        t = (x-x0)/(x1 -x0)\n",
    "        y = round ((1.0-t)*y0 + t*y1)\n",
    "        if (xchange):\n",
    "            image[x, y] = color\n",
    "        else:\n",
    "            image[y, x] = color"
   ]
  },
  {
   "cell_type": "code",
   "execution_count": 103,
   "id": "b840003c-f785-4a2d-8952-e468cedfa224",
   "metadata": {},
   "outputs": [],
   "source": [
    "create_img(x_loop_line_v2, \"x_loop_line_v2.jpg\")"
   ]
  },
  {
   "cell_type": "code",
   "execution_count": 104,
   "id": "85eb014c-326f-4f75-a7f6-c1a7093ce099",
   "metadata": {},
   "outputs": [],
   "source": [
    "def x_loop_line_v2_no_y_calc(image, x0, y0, x1, y1, color):\n",
    "    xchange = False\n",
    "    if (abs(x0-x1) < abs(y0 -y1)):\n",
    "        x0, y0 = y0, x0\n",
    "        x1, y1 = y1, x1\n",
    "        xchange = True\n",
    "    if (x0 > x1):\n",
    "        x0, x1 = x1, x0\n",
    "        y0, y1 = y1, y0\n",
    "    y=round(y0)\n",
    "    dy = abs(y1-y0)/(x1 -x0)\n",
    "    derror = 0.0\n",
    "    y_update = 1 if y1 > y0 else -1\n",
    "    for x in range (round(x0), round(x1)):\n",
    "        if (xchange):\n",
    "            image[x, y] = color\n",
    "        else:\n",
    "            image[y, x] = color\n",
    "        derror += dy\n",
    "        if (derror > 0.5):\n",
    "            derror -= 1.0\n",
    "            y += y_update"
   ]
  },
  {
   "cell_type": "code",
   "execution_count": 105,
   "id": "3ea52946-a5e3-4817-88d2-a5e894dcc178",
   "metadata": {},
   "outputs": [],
   "source": [
    "create_img(x_loop_line_v2_no_y_calc, \"x_loop_line_v2_no_y_calc.jpg\")"
   ]
  },
  {
   "cell_type": "code",
   "execution_count": 106,
   "id": "eda22bbe-82aa-4689-8fb5-e66d9af36dd4",
   "metadata": {},
   "outputs": [],
   "source": [
    "def x_loop_line_v2_no_y_calc_v2(image, x0, y0, x1, y1, color):\n",
    "    xchange = False\n",
    "    if (abs(x0-x1) < abs(y0 -y1)):\n",
    "        x0, y0 = y0, x0\n",
    "        x1, y1 = y1, x1\n",
    "        xchange = True\n",
    "    if (x0 > x1):\n",
    "        x0, x1 = x1, x0\n",
    "        y0, y1 = y1, y0\n",
    "    y=round(y0)\n",
    "    dy = 2 * (x1 -x0) * abs(y1-y0)/(x1 -x0)\n",
    "    derror = 0.0\n",
    "    y_update = 1 if y1 > y0 else -1\n",
    "    for x in range (round(x0), round(x1)):\n",
    "        if (xchange):\n",
    "            image[x, y] = color\n",
    "        else:\n",
    "            image[y, x] = color\n",
    "        derror += dy\n",
    "        if (derror > 2*(x1-x0)*0.5):\n",
    "            derror -= 2*(x1-x0)*1.0\n",
    "            y += y_update"
   ]
  },
  {
   "cell_type": "code",
   "execution_count": 107,
   "id": "03b3d364-a3af-4f09-9877-ebd6c14ac228",
   "metadata": {},
   "outputs": [],
   "source": [
    "create_img(x_loop_line_v2_no_y_calc_v2, \"x_loop_line_v2_no_y_calc_v2.jpg\")"
   ]
  },
  {
   "cell_type": "code",
   "execution_count": 7,
   "id": "a8f5ee07-c261-4177-bef5-d19bc63700c2",
   "metadata": {},
   "outputs": [],
   "source": [
    "def bresenham_line(image, x0, y0, x1, y1, color):\n",
    "    xchange = False\n",
    "    if (abs(x0 - x1) < abs(y0 - y1)):\n",
    "        x0, y0 = y0, x0\n",
    "        x1, y1 = y1, x1\n",
    "        xchange = True\n",
    "\n",
    "    if (x0 > x1):\n",
    "        x0, x1 = x1, x0\n",
    "        y0, y1 = y1, y0\n",
    "        \n",
    "    y = round(y0)\n",
    "    dy = 2*abs(y1 - y0)\n",
    "    derror = 0\n",
    "    y_update = 1 if y1 > y0 else -1\n",
    "    for x in range (round(x0), round(x1)):\n",
    "        if (xchange):\n",
    "            image[x, y] = color\n",
    "        else:\n",
    "            image[y, x] = color\n",
    "            \n",
    "        derror += dy\n",
    "        if (derror > (x1 - x0)):\n",
    "            derror -= 2*(x1 - x0)\n",
    "            y += y_update\n"
   ]
  },
  {
   "cell_type": "code",
   "execution_count": 109,
   "id": "8a89788e-8765-4f60-bc95-c09eb4e828ae",
   "metadata": {},
   "outputs": [],
   "source": [
    "create_img(bresenham_line, \"bresenham_line.jpg\")"
   ]
  },
  {
   "cell_type": "markdown",
   "id": "796423c1-f967-42f2-91f2-6b1d43180851",
   "metadata": {},
   "source": [
    "## Задание 3-6"
   ]
  },
  {
   "cell_type": "code",
   "execution_count": 8,
   "id": "21d833cc-b4cf-4d62-814b-c9ce760b302f",
   "metadata": {},
   "outputs": [],
   "source": [
    "def process_obj(filename : str):    \n",
    "    with open(filename) as obj:\n",
    "        obj.seek(0, 2)\n",
    "        length = obj.tell()\n",
    "        obj.seek(0, 0)\n",
    "\n",
    "        vertices = []\n",
    "        faces = []\n",
    "        \n",
    "        while obj.tell() != length:\n",
    "            line = obj.readline().split()\n",
    "            if line[0] == 'v':\n",
    "                vertices.append([float(line[1]), float(line[2]), float(line[3])])\n",
    "            elif line[0] == 'f':\n",
    "                faces.append([int(line[1].split('/')[0]) - 1, int(line[2].split('/')[0]) - 1, int(line[3].split('/')[0]) - 1])\n",
    "        \n",
    "        return np.array(vertices), faces"
   ]
  },
  {
   "cell_type": "code",
   "execution_count": 9,
   "id": "0c473b76-f680-4980-b00b-2fbed45b1342",
   "metadata": {},
   "outputs": [],
   "source": [
    "def render_vertices(matrix, color):\n",
    "    for vertice in vertices:\n",
    "        matrix[round(vertice[1]*scale+shift), round(vertice[0]*scale+shift)] = color"
   ]
  },
  {
   "cell_type": "code",
   "execution_count": 10,
   "id": "8403c4bd-ed1e-4d22-acc6-5478073cd06e",
   "metadata": {},
   "outputs": [],
   "source": [
    "def render_faces(matrix, color):\n",
    "    for face in faces:\n",
    "        for index in range(3):\n",
    "            bresenham_line(matrix, \n",
    "                           vertices[face[index]][0]*scale + shift, vertices[face[index]][1]*scale + shift, \n",
    "                           vertices[face[(index + 1) % 3]][0]*scale + shift, vertices[face[(index + 1) % 3]][1]*scale + shift, color)\n",
    "        "
   ]
  },
  {
   "cell_type": "code",
   "execution_count": 85,
   "id": "437808bf-7161-40f2-b803-e90942ca8552",
   "metadata": {},
   "outputs": [],
   "source": [
    "'''\n",
    "Задание 7-9\n",
    "'''\n",
    "def barycentric_coordinates(x, y, x0, y0, x1, y1, x2, y2):\n",
    "    res = []\n",
    "    res.append(((x - x2) * (y1 - y2) - (x1 - x2) * (y - y2))/((x0 - x2) * (y1 - y2) - (x1 - x2) * (y0 - y2)))\n",
    "    res.append(((x0 - x2) * (y - y2) - (x - x2) * (y0 - y2))/((x0 - x2) * (y1 - y2) - (x1 - x2) * (y0 - y2)))\n",
    "    res.append(1.0 - res[0] - res[1])\n",
    "\n",
    "    return res"
   ]
  },
  {
   "cell_type": "code",
   "execution_count": 86,
   "id": "6d874b1a-4d54-4d1b-a72f-baf9519c6a80",
   "metadata": {},
   "outputs": [],
   "source": [
    "def draw_triangle(image, p0, p1, p2, w, h, color, z_buffer):\n",
    "    x0 = p0[0]*scale + shift\n",
    "    y0 = p0[1]*scale + shift\n",
    "    x1 = p1[0]*scale + shift\n",
    "    y1 = p1[1]*scale + shift\n",
    "    x2 = p2[0]*scale + shift\n",
    "    y2 = p2[1]*scale + shift\n",
    "    \n",
    "    xmin = int(min(x0, x1, x2))\n",
    "    xmax = int(max(x0, x1, x2))\n",
    "    ymin = int(min(y0, y1, y2))\n",
    "    ymax = int(max(y0, y1, y2))\n",
    "\n",
    "    xmin = 0 if xmin < 0 else xmin\n",
    "    ymin = 0 if ymin < 0 else ymin\n",
    "    xmax = xmax if xmax < w else w\n",
    "    ymax = ymax if ymax < h else h\n",
    "    \n",
    "    for i in range(xmin, xmax + 1):\n",
    "        for j in range(ymin, ymax + 1):\n",
    "            coords = barycentric_coordinates(i, j, x0, y0, x1, y1, x2, y2)\n",
    "            z_coord = coords[0] * p0[2] + coords[1] * p1[2] + coords[2] * p2[2]\n",
    "            if (coords is not None) and coords[0]>=0 and coords[1]>=0 and coords[2]>=0 and z_coord < z_buffer[i, j]:\n",
    "                z_buffer[i, j] = z_coord\n",
    "                image[i, j] = color\n",
    "            "
   ]
  },
  {
   "cell_type": "code",
   "execution_count": 87,
   "id": "b7df8f51-1c24-4ea9-8bfc-f0359ec340d3",
   "metadata": {},
   "outputs": [],
   "source": [
    "def get_random_color():\n",
    "    \n",
    "    r = random.randint(0, 255)\n",
    "    g = random.randint(0, 255)\n",
    "    b = random.randint(0, 255)\n",
    "    return (r, g, b)"
   ]
  },
  {
   "cell_type": "code",
   "execution_count": 88,
   "id": "9d9ad029-3799-456a-8f49-821ad5c643fe",
   "metadata": {},
   "outputs": [],
   "source": [
    "'''\n",
    "Задание 11\n",
    "'''\n",
    "\n",
    "def find_norm(p0, p1, p2):\n",
    "    norm = []\n",
    "    vx1 = p0[0] - p1[0]\n",
    "    vy1 = p0[1] - p1[1]\n",
    "    vz1 = p0[2] - p1[2]\n",
    "    vx2 = p1[0] - p2[0]\n",
    "    vy2 = p1[1] - p2[1]\n",
    "    vz2 = p1[2] - p2[2]\n",
    "\n",
    "    x = vy1 * vz2 - vz1 * vy2\n",
    "    y = vz1 * vx2 - vx1 * vz2\n",
    "    z = vx1 * vy2 - vy1 * vx2\n",
    "\n",
    "    norm.append(x)\n",
    "    norm.append(y)\n",
    "    norm.append(z)\n",
    "\n",
    "    return norm"
   ]
  },
  {
   "cell_type": "code",
   "execution_count": 89,
   "id": "e81f1173-c254-4c62-a193-db4108b8ce59",
   "metadata": {},
   "outputs": [],
   "source": [
    "filename = 'model_1.obj'\n",
    "vertices, faces = process_obj(filename)\n",
    "degree = 180\n",
    "radians = math.pi * degree / 180\n",
    "scale = 7000\n",
    "shift = 500\n",
    "vertices[:,1] -= 500 / scale\n",
    "\n",
    "matrix = np.zeros((1000, 1000), dtype = np.uint8)"
   ]
  },
  {
   "cell_type": "code",
   "execution_count": 90,
   "id": "be9fe8a8-65b3-4905-be18-c6965bc51dd1",
   "metadata": {},
   "outputs": [],
   "source": [
    "y_rotate_matrix = np.array([[math.cos(radians), 0, math.sin(radians)],\n",
    "                            [0, 1, 0],\n",
    "                            [-math.sin(radians), 0, math.cos(radians)]])\n",
    "\n",
    "vertices = vertices @ y_rotate_matrix\n",
    "\n",
    "#render_faces(matrix, 127)\n",
    "#render_vertices(matrix, 255)\n",
    "#matrix = np.rot90(matrix, 2)\n",
    "#Image.fromarray(matrix).save(\"model.jpg\")"
   ]
  },
  {
   "cell_type": "code",
   "execution_count": 91,
   "id": "6a92bbde-6519-486c-8cc6-4c1018bb2220",
   "metadata": {},
   "outputs": [],
   "source": [
    "l = np.array([0, 0, 1])\n",
    "matrix = np.full(shape=(1000, 1000, 3), fill_value=[0, 0, 0], dtype = np.uint8)\n",
    "z_buffer = np.full(shape=(1000, 1000), fill_value=np.inf)\n",
    "for triangle in faces:\n",
    "    norm = find_norm(vertices[triangle[0]], vertices[triangle[1]], vertices[triangle[2]])\n",
    "    angle = np.dot(norm, l)/np.linalg.norm(norm)\n",
    "    if (angle < 0):\n",
    "        draw_triangle(matrix, vertices[triangle[0]], vertices[triangle[1]], vertices[triangle[2]], 1000, 1000, [-255*angle, -255*angle, -255*angle], z_buffer)\n",
    "matrix = np.rot90(matrix, 1)\n",
    "Image.fromarray(matrix, 'RGB').save(\"draw_rabbit.jpg\")"
   ]
  }
 ],
 "metadata": {
  "kernelspec": {
   "display_name": "Python 3 (ipykernel)",
   "language": "python",
   "name": "python3"
  },
  "language_info": {
   "codemirror_mode": {
    "name": "ipython",
    "version": 3
   },
   "file_extension": ".py",
   "mimetype": "text/x-python",
   "name": "python",
   "nbconvert_exporter": "python",
   "pygments_lexer": "ipython3",
   "version": "3.12.5"
  }
 },
 "nbformat": 4,
 "nbformat_minor": 5
}
