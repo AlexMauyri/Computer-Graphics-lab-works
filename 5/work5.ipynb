{
 "cells": [
  {
   "cell_type": "code",
   "execution_count": 13,
   "id": "483df79d-c8e7-409c-9dd3-51204ea80367",
   "metadata": {},
   "outputs": [],
   "source": [
    "import numpy as np\n",
    "from objparser import ObjParser\n",
    "from objmodel import ObjModel\n",
    "from scene import Scene"
   ]
  },
  {
   "cell_type": "code",
   "execution_count": 14,
   "id": "d6c37fc4-b6bc-4a55-822c-d6392237c35c",
   "metadata": {},
   "outputs": [],
   "source": [
    "init_scale = 6000\n",
    "model_shift = np.array([0, -300, 0])\n",
    "light = np.array([0, 1, 1])\n",
    "camera = np.array([0, 0, 1])\n",
    "height = 1000\n",
    "width = 1000\n",
    "degrees = {'x' : 0, 'y' : -130, 'z' : 0}"
   ]
  },
  {
   "cell_type": "code",
   "execution_count": 15,
   "id": "e81f1173-c254-4c62-a193-db4108b8ce59",
   "metadata": {},
   "outputs": [],
   "source": [
    "filename = 'bunny_model.obj'\n",
    "texture_filename = 'bunny.jpg'\n",
    "\n",
    "catModel = ObjParser.processObj(filename)\n",
    "catTexture = ObjParser.processTexture(texture_filename)\n",
    "catModel.addTexture(catTexture)"
   ]
  },
  {
   "cell_type": "code",
   "execution_count": 16,
   "id": "deaa9600-ebe1-450e-b444-f155bdfb5fa8",
   "metadata": {},
   "outputs": [],
   "source": [
    "filename = 'afro_model.obj'\n",
    "texture_filename = 'afro.bmp'\n",
    "\n",
    "afroModel = ObjParser.processObj(filename)\n",
    "afroTexture = ObjParser.processTexture(texture_filename)\n",
    "afroModel.addTexture(afroTexture)"
   ]
  },
  {
   "cell_type": "code",
   "execution_count": 17,
   "id": "88c6180c-5b3e-4141-a542-40cc3b724a17",
   "metadata": {},
   "outputs": [],
   "source": [
    "scene = Scene(height, width, light, camera)"
   ]
  },
  {
   "cell_type": "code",
   "execution_count": null,
   "id": "8a88f466-3dec-43d9-b7f0-3858809bc05d",
   "metadata": {},
   "outputs": [],
   "source": [
    "scene.addModel(catModel)\n",
    "scene.rotateModel(degrees, 0)\n",
    "scene.scaleModel(init_scale, 0)\n",
    "scene.shiftModel(model_shift, 0)"
   ]
  },
  {
   "cell_type": "code",
   "execution_count": 18,
   "id": "dab3e815-86ce-4d80-87ef-f740f7205a6e",
   "metadata": {},
   "outputs": [],
   "source": [
    "scene.addModel(afroModel)\n",
    "scene.scaleModel(300, 0)"
   ]
  },
  {
   "cell_type": "code",
   "execution_count": 19,
   "id": "125c6b69-c29a-4129-ba61-f4717c58b0df",
   "metadata": {},
   "outputs": [],
   "source": [
    "scene.renderScene(\"test_full_pipeline.png\")"
   ]
  },
  {
   "cell_type": "code",
   "execution_count": null,
   "id": "4be7c8af-bfc8-41ea-bcd3-d3860d4f8d67",
   "metadata": {},
   "outputs": [],
   "source": []
  }
 ],
 "metadata": {
  "kernelspec": {
   "display_name": "Python 3 (ipykernel)",
   "language": "python",
   "name": "python3"
  },
  "language_info": {
   "codemirror_mode": {
    "name": "ipython",
    "version": 3
   },
   "file_extension": ".py",
   "mimetype": "text/x-python",
   "name": "python",
   "nbconvert_exporter": "python",
   "pygments_lexer": "ipython3",
   "version": "3.12.5"
  }
 },
 "nbformat": 4,
 "nbformat_minor": 5
}
