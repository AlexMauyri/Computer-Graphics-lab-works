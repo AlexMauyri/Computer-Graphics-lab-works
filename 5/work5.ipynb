{
 "cells": [
  {
   "cell_type": "code",
   "execution_count": 9,
   "id": "483df79d-c8e7-409c-9dd3-51204ea80367",
   "metadata": {},
   "outputs": [],
   "source": [
    "import numpy as np\n",
    "from objparser import ObjParser\n",
    "from objmodel import ObjModel\n",
    "from scene import Scene"
   ]
  },
  {
   "cell_type": "code",
   "execution_count": 10,
   "id": "deaa9600-ebe1-450e-b444-f155bdfb5fa8",
   "metadata": {},
   "outputs": [],
   "source": [
    "filename = 'bunny_model.obj'\n",
    "texture_filename = 'bunny.jpg'\n",
    "\n",
    "bunnyModel = ObjParser.processObj(filename)\n",
    "bunnyTexture = ObjParser.processTexture(texture_filename)\n",
    "bunnyModel.addTexture(bunnyTexture)"
   ]
  },
  {
   "cell_type": "code",
   "execution_count": 11,
   "id": "b533a309-6463-40aa-b393-8d78e97583de",
   "metadata": {},
   "outputs": [],
   "source": [
    "filename = 'frog_model.obj'\n",
    "texture_filename = 'frog.jpg'\n",
    "\n",
    "frogModel = ObjParser.processObj(filename)\n",
    "frogTexture = ObjParser.processTexture(texture_filename)\n",
    "frogModel.addTexture(frogTexture)"
   ]
  },
  {
   "cell_type": "code",
   "execution_count": 12,
   "id": "d6c37fc4-b6bc-4a55-822c-d6392237c35c",
   "metadata": {},
   "outputs": [],
   "source": [
    "light = np.array([0, 1, 1])\n",
    "camera = np.array([0, 0, 1])\n",
    "height = 1080\n",
    "width = 1920\n",
    "degrees = {'x' : 0, 'y' : 130, 'z' : 0}"
   ]
  },
  {
   "cell_type": "code",
   "execution_count": 13,
   "id": "88c6180c-5b3e-4141-a542-40cc3b724a17",
   "metadata": {},
   "outputs": [],
   "source": [
    "scene = Scene(height, width, light, camera)\n",
    "scene.setShading('phong')"
   ]
  },
  {
   "cell_type": "code",
   "execution_count": 14,
   "id": "dab3e815-86ce-4d80-87ef-f740f7205a6e",
   "metadata": {},
   "outputs": [
    {
     "name": "stdout",
     "output_type": "stream",
     "text": [
      "[[1.01389390e+03 4.90466624e+02 2.37849729e-01]\n",
      " [1.01145951e+03 4.88873838e+02 2.37774545e-01]\n",
      " [1.01316393e+03 4.88666265e+02 2.37124768e-01]\n",
      " ...\n",
      " [1.01913593e+03 3.75735375e+02 2.21152302e-01]\n",
      " [1.02075475e+03 3.76926124e+02 2.20997998e-01]\n",
      " [1.02683091e+03 3.76015488e+02 2.19084715e-01]]\n"
     ]
    }
   ],
   "source": [
    "init_scale = 500\n",
    "model_shift = np.array([0, -37, 0])\n",
    "rotateAxis = np.array([0,1,0], dtype='float64')\n",
    "rotateDegree = 120\n",
    "\n",
    "index = 0;\n",
    "scene.addModel(init_scale, bunnyModel)\n",
    "scene.rotateModelQuaternion(rotateDegree, rotateAxis, index)\n",
    "scene.scaleModel(init_scale, index)\n",
    "scene.shiftModel(model_shift, index)\n",
    "scene.perspectiveTransformModel(0.15, init_scale, index)\n",
    "print(scene.objModels[index].v)"
   ]
  },
  {
   "cell_type": "code",
   "execution_count": 15,
   "id": "1ae5a0e7-ae97-4e28-a3d9-b52737f34008",
   "metadata": {},
   "outputs": [
    {
     "name": "stdout",
     "output_type": "stream",
     "text": [
      "[[987.49412211 548.0598999   13.15462987]\n",
      " [987.88756164 548.72218468  13.12457879]\n",
      " [986.54051846 548.75266751  13.07886994]\n",
      " ...\n",
      " [984.61387783 537.9833361   15.24795483]\n",
      " [984.77684589 538.01771299  15.20970471]\n",
      " [984.9685801  538.06204815  15.17065555]]\n"
     ]
    }
   ],
   "source": [
    "init_scale = 250\n",
    "model_shift = np.array([200, -80, 0])\n",
    "rotateAxis1 = np.array([1,0,0], dtype='float64')\n",
    "rotateAxis = np.array([0,1,0], dtype='float64')\n",
    "rotateDegree = 150\n",
    "rotateDegree1 = -90\n",
    "\n",
    "index = 1\n",
    "scene.addModel(init_scale, frogModel)\n",
    "scene.rotateModelQuaternion(rotateDegree1, rotateAxis1, index)\n",
    "scene.rotateModelQuaternion(rotateDegree, rotateAxis, index)\n",
    "scene.scaleModel(init_scale , index)\n",
    "scene.shiftModel(model_shift, index)\n",
    "scene.perspectiveTransformModel(10.75, init_scale, index)\n",
    "print(scene.objModels[index].v)"
   ]
  },
  {
   "cell_type": "code",
   "execution_count": 16,
   "id": "125c6b69-c29a-4129-ba61-f4717c58b0df",
   "metadata": {},
   "outputs": [],
   "source": [
    "scene.renderScene(\"test_full_pipeline.png\")"
   ]
  },
  {
   "cell_type": "code",
   "execution_count": null,
   "id": "7eeb122d-52ff-42f0-873c-a3097caff285",
   "metadata": {},
   "outputs": [],
   "source": []
  }
 ],
 "metadata": {
  "kernelspec": {
   "display_name": "Python 3 (ipykernel)",
   "language": "python",
   "name": "python3"
  },
  "language_info": {
   "codemirror_mode": {
    "name": "ipython",
    "version": 3
   },
   "file_extension": ".py",
   "mimetype": "text/x-python",
   "name": "python",
   "nbconvert_exporter": "python",
   "pygments_lexer": "ipython3",
   "version": "3.12.5"
  }
 },
 "nbformat": 4,
 "nbformat_minor": 5
}
