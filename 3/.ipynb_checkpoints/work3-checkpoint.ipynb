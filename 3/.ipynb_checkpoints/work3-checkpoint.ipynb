{
 "cells": [
  {
   "cell_type": "code",
   "execution_count": 1,
   "id": "483df79d-c8e7-409c-9dd3-51204ea80367",
   "metadata": {},
   "outputs": [],
   "source": [
    "import numpy as np\n",
    "import math\n",
    "import random\n",
    "from PIL import Image"
   ]
  },
  {
   "cell_type": "code",
   "execution_count": 2,
   "id": "21d833cc-b4cf-4d62-814b-c9ce760b302f",
   "metadata": {},
   "outputs": [],
   "source": [
    "def process_obj(filename : str):    \n",
    "    with open(filename) as obj:\n",
    "        obj.seek(0, 2)\n",
    "        length = obj.tell()\n",
    "        obj.seek(0, 0)\n",
    "\n",
    "        vertices = []\n",
    "        faces = []\n",
    "        \n",
    "        while obj.tell() != length:\n",
    "            line = obj.readline().split()\n",
    "            if line[0] == 'v':\n",
    "                vertices.append([float(line[1]), float(line[2]), float(line[3])])\n",
    "            elif line[0] == 'f':\n",
    "                faces.append([int(line[1].split('/')[0]) - 1, int(line[2].split('/')[0]) - 1, int(line[3].split('/')[0]) - 1])\n",
    "        \n",
    "        return np.array(vertices), faces"
   ]
  },
  {
   "cell_type": "code",
   "execution_count": 3,
   "id": "437808bf-7161-40f2-b803-e90942ca8552",
   "metadata": {},
   "outputs": [],
   "source": [
    "def barycentric_coordinates(x, y, x0, y0, x1, y1, x2, y2):\n",
    "    res = []\n",
    "    res.append(((x - x2) * (y1 - y2) - (x1 - x2) * (y - y2))/((x0 - x2) * (y1 - y2) - (x1 - x2) * (y0 - y2)))\n",
    "    res.append(((x0 - x2) * (y - y2) - (x - x2) * (y0 - y2))/((x0 - x2) * (y1 - y2) - (x1 - x2) * (y0 - y2)))\n",
    "    res.append(1.0 - res[0] - res[1])\n",
    "\n",
    "    return res"
   ]
  },
  {
   "cell_type": "code",
   "execution_count": 4,
   "id": "6d874b1a-4d54-4d1b-a72f-baf9519c6a80",
   "metadata": {},
   "outputs": [],
   "source": [
    "def draw_triangle(image, p0, p1, p2, w, h, color, z_buffer):\n",
    "    x0 = p0[0]*scale + shift\n",
    "    y0 = p0[1]*scale + shift\n",
    "    x1 = p1[0]*scale + shift\n",
    "    y1 = p1[1]*scale + shift\n",
    "    x2 = p2[0]*scale + shift\n",
    "    y2 = p2[1]*scale + shift\n",
    "    \n",
    "    xmin = int(min(x0, x1, x2))\n",
    "    xmax = int(max(x0, x1, x2))\n",
    "    ymin = int(min(y0, y1, y2))\n",
    "    ymax = int(max(y0, y1, y2))\n",
    "\n",
    "    xmin = 0 if xmin < 0 else xmin\n",
    "    ymin = 0 if ymin < 0 else ymin\n",
    "    xmax = xmax if xmax < w - 1 else w - 1\n",
    "    ymax = ymax if ymax < h - 1 else h - 1\n",
    "    \n",
    "    for i in range(xmin, xmax + 1):\n",
    "        for j in range(ymin, ymax + 1):\n",
    "            coords = barycentric_coordinates(i, j, x0, y0, x1, y1, x2, y2)\n",
    "            z_coord = coords[0] * p0[2] + coords[1] * p1[2] + coords[2] * p2[2]\n",
    "            if (coords is not None) and coords[0]>=0 and coords[1]>=0 and coords[2]>=0 and z_coord < z_buffer[i, j]:\n",
    "                z_buffer[i, j] = z_coord\n",
    "                image[i, j] = color\n",
    "            "
   ]
  },
  {
   "cell_type": "code",
   "execution_count": 5,
   "id": "b7df8f51-1c24-4ea9-8bfc-f0359ec340d3",
   "metadata": {},
   "outputs": [],
   "source": [
    "def get_random_color():\n",
    "    \n",
    "    r = random.randint(0, 255)\n",
    "    g = random.randint(0, 255)\n",
    "    b = random.randint(0, 255)\n",
    "    return (r, g, b)"
   ]
  },
  {
   "cell_type": "code",
   "execution_count": 6,
   "id": "9d9ad029-3799-456a-8f49-821ad5c643fe",
   "metadata": {},
   "outputs": [],
   "source": [
    "def find_norm(p0, p1, p2):\n",
    "    norm = []\n",
    "    vx1 = p0[0] - p1[0]\n",
    "    vy1 = p0[1] - p1[1]\n",
    "    vz1 = p0[2] - p1[2]\n",
    "    vx2 = p1[0] - p2[0]\n",
    "    vy2 = p1[1] - p2[1]\n",
    "    vz2 = p1[2] - p2[2]\n",
    "\n",
    "    x = vy1 * vz2 - vz1 * vy2\n",
    "    y = vz1 * vx2 - vx1 * vz2\n",
    "    z = vx1 * vy2 - vy1 * vx2\n",
    "\n",
    "    norm.append(x)\n",
    "    norm.append(y)\n",
    "    norm.append(z)\n",
    "\n",
    "    return norm"
   ]
  },
  {
   "cell_type": "code",
   "execution_count": 7,
   "id": "e81f1173-c254-4c62-a193-db4108b8ce59",
   "metadata": {},
   "outputs": [],
   "source": [
    "filename = 'model_1.obj'\n",
    "vertices, faces = process_obj(filename)\n",
    "degree = 180\n",
    "radians = math.pi * degree / 180\n",
    "scale = 6000\n",
    "shift = 500\n",
    "vertices[:,1] -= 500 / scale\n",
    "\n",
    "matrix = np.zeros((1000, 1000), dtype = np.uint8)"
   ]
  },
  {
   "cell_type": "code",
   "execution_count": 8,
   "id": "be9fe8a8-65b3-4905-be18-c6965bc51dd1",
   "metadata": {},
   "outputs": [],
   "source": [
    "y_rotate_matrix = np.array([[math.cos(radians), 0, math.sin(radians)],\n",
    "                            [0, 1, 0],\n",
    "                            [-math.sin(radians), 0, math.cos(radians)]])\n",
    "\n",
    "vertices = vertices @ y_rotate_matrix"
   ]
  },
  {
   "cell_type": "code",
   "execution_count": 9,
   "id": "6a92bbde-6519-486c-8cc6-4c1018bb2220",
   "metadata": {},
   "outputs": [],
   "source": [
    "l = np.array([0, 0, 1])\n",
    "matrix = np.full(shape=(1000, 1000, 3), fill_value=[0, 0, 0], dtype = np.uint8)\n",
    "z_buffer = np.full(shape=(1000, 1000), fill_value=np.inf)\n",
    "for triangle in faces:\n",
    "    norm = find_norm(vertices[triangle[0]], vertices[triangle[1]], vertices[triangle[2]])\n",
    "    angle = np.dot(norm, l)/np.linalg.norm(norm)\n",
    "    if (angle < 0):\n",
    "        draw_triangle(matrix, vertices[triangle[0]], vertices[triangle[1]], vertices[triangle[2]], 1000, 1000, [-255*angle, -255*angle, -255*angle], z_buffer)\n",
    "matrix = np.rot90(matrix, 1)\n",
    "Image.fromarray(matrix, 'RGB').save(\"draw_rabbit.jpg\")"
   ]
  }
 ],
 "metadata": {
  "kernelspec": {
   "display_name": "Python 3 (ipykernel)",
   "language": "python",
   "name": "python3"
  },
  "language_info": {
   "codemirror_mode": {
    "name": "ipython",
    "version": 3
   },
   "file_extension": ".py",
   "mimetype": "text/x-python",
   "name": "python",
   "nbconvert_exporter": "python",
   "pygments_lexer": "ipython3",
   "version": "3.12.5"
  }
 },
 "nbformat": 4,
 "nbformat_minor": 5
}
