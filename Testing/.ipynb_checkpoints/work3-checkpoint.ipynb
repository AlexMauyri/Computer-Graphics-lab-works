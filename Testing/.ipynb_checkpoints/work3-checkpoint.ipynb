{
 "cells": [
  {
   "cell_type": "code",
   "execution_count": 1,
   "id": "483df79d-c8e7-409c-9dd3-51204ea80367",
   "metadata": {},
   "outputs": [],
   "source": [
    "import numpy as np\n",
    "from math import sin, cos, radians\n",
    "import random\n",
    "from PIL import Image"
   ]
  },
  {
   "cell_type": "code",
   "execution_count": 2,
   "id": "21d833cc-b4cf-4d62-814b-c9ce760b302f",
   "metadata": {},
   "outputs": [],
   "source": [
    "def process_obj(filename : str):    \n",
    "    with open(filename) as obj:\n",
    "        obj.seek(0, 2)\n",
    "        length = obj.tell()\n",
    "        obj.seek(0, 0)\n",
    "\n",
    "        vertices = []\n",
    "        faces = []\n",
    "        \n",
    "        while obj.tell() != length:\n",
    "            line = obj.readline().split()\n",
    "\n",
    "            if len(line) == 0:\n",
    "                continue\n",
    "            \n",
    "            if line[0] == 'v':\n",
    "                vertices.append(list(map(float, line[1:])))\n",
    "            elif line[0] == 'f':\n",
    "                faces.append([int(vertex.split('/')[0]) - 1 for vertex in line[1:]])\n",
    "        return np.array(vertices), np.array(faces)"
   ]
  },
  {
   "cell_type": "code",
   "execution_count": 3,
   "id": "437808bf-7161-40f2-b803-e90942ca8552",
   "metadata": {},
   "outputs": [],
   "source": [
    "def barycentric_coordinates(x, y, x0, y0, x1, y1, x2, y2):\n",
    "    res = []\n",
    "    res.append(((x - x2) * (y1 - y2) - (x1 - x2) * (y - y2))/((x0 - x2) * (y1 - y2) - (x1 - x2) * (y0 - y2)))\n",
    "    res.append(((x0 - x2) * (y - y2) - (x - x2) * (y0 - y2))/((x0 - x2) * (y1 - y2) - (x1 - x2) * (y0 - y2)))\n",
    "    res.append(1.0 - res[0] - res[1])\n",
    "\n",
    "    return res"
   ]
  },
  {
   "cell_type": "code",
   "execution_count": 4,
   "id": "6d874b1a-4d54-4d1b-a72f-baf9519c6a80",
   "metadata": {},
   "outputs": [],
   "source": [
    "def draw_triangle(image, p0, p1, p2, w, h, color, z_buffer):\n",
    "    x0 = p0[0]\n",
    "    y0 = p0[1]\n",
    "    x1 = p1[0]\n",
    "    y1 = p1[1]\n",
    "    x2 = p2[0]\n",
    "    y2 = p2[1]\n",
    "    \n",
    "    xmin = int(min(x0, x1, x2))\n",
    "    xmax = int(max(x0, x1, x2))\n",
    "    ymin = int(min(y0, y1, y2))\n",
    "    ymax = int(max(y0, y1, y2))\n",
    "\n",
    "    xmin = 0 if xmin < 0 else xmin\n",
    "    ymin = 0 if ymin < 0 else ymin\n",
    "    xmax = xmax if xmax < w - 1 else w - 1\n",
    "    ymax = ymax if ymax < h - 1 else h - 1\n",
    "    \n",
    "    for i in range(xmin, xmax + 1):\n",
    "        for j in range(ymin, ymax + 1):\n",
    "            coords = barycentric_coordinates(i, j, x0, y0, x1, y1, x2, y2)\n",
    "            z_coord = coords[0] * p0[2] + coords[1] * p1[2] + coords[2] * p2[2]\n",
    "            if (coords is not None) and coords[0]>=0 and coords[1]>=0 and coords[2]>=0 and z_coord < z_buffer[i, j]:\n",
    "                z_buffer[i, j] = z_coord\n",
    "                image[i, j] = color\n",
    "            "
   ]
  },
  {
   "cell_type": "code",
   "execution_count": 5,
   "id": "9d9ad029-3799-456a-8f49-821ad5c643fe",
   "metadata": {},
   "outputs": [],
   "source": [
    "def find_norm(p0, p1, p2):\n",
    "    norm = []\n",
    "    vx1 = p0[0] - p1[0]\n",
    "    vy1 = p0[1] - p1[1]\n",
    "    vz1 = p0[2] - p1[2]\n",
    "    vx2 = p1[0] - p2[0]\n",
    "    vy2 = p1[1] - p2[1]\n",
    "    vz2 = p1[2] - p2[2]\n",
    "\n",
    "    x = vy1 * vz2 - vz1 * vy2\n",
    "    y = vz1 * vx2 - vx1 * vz2\n",
    "    z = vx1 * vy2 - vy1 * vx2\n",
    "\n",
    "    norm.append(x)\n",
    "    norm.append(y)\n",
    "    norm.append(z)\n",
    "\n",
    "    return norm"
   ]
  },
  {
   "cell_type": "code",
   "execution_count": 6,
   "id": "201d9595-77e4-4dc0-9f30-fc7e998b378c",
   "metadata": {},
   "outputs": [],
   "source": [
    "def shift_scale(vertices):\n",
    "    return vertices * init_scale + shift"
   ]
  },
  {
   "cell_type": "code",
   "execution_count": 29,
   "id": "56c2c297-16f7-4413-9738-563f960b7b34",
   "metadata": {},
   "outputs": [],
   "source": [
    "height = 1000\n",
    "width = 1000\n",
    "\n",
    "init_scale = 3000\n",
    "model_shift = np.array([250 / init_scale, 0, 0])\n",
    "white = np.array([-255, -255, -255])\n",
    "l = np.array([0, 0, 1])"
   ]
  },
  {
   "cell_type": "code",
   "execution_count": 30,
   "id": "d6c37fc4-b6bc-4a55-822c-d6392237c35c",
   "metadata": {},
   "outputs": [],
   "source": [
    "degrees = {'x' : 45, 'y' : 0, 'z' : 90}\n",
    "a = {k: radians(v) for k,v in degrees.items()}\n",
    "\n",
    "X_rotate = np.array([[1, 0, 0], [0, cos(a['x']), -sin(a['x'])], [0, sin(a['x']), cos(a['x'])]])\n",
    "Y_rotate = np.array([[cos(a['y']), 0, sin(a['y'])], [0, 1, 0], [-sin(a['y']), 0, cos(a['y'])]])\n",
    "Z_rotate = np.array([[cos(a['z']), -sin(a['z']), 0], [sin(a['z']), cos(a['z']), 0], [0, 0, 1]])\n",
    "\n",
    "filename = 'model_1.obj'\n",
    "vertices, faces = process_obj(filename)\n",
    "R = X_rotate @ Y_rotate @ Z_rotate\n",
    "\n",
    "vertices = (R @ vertices.T).T\n",
    "vertices += model_shift\n",
    "\n",
    "z_shift = 2.0 * abs(vertices[:, 2].min())\n",
    "scale = init_scale * z_shift\n",
    "\n",
    "vertices[:, 0] = scale * vertices[:, 0] / (vertices[:, 2] + z_shift) + height / 2\n",
    "vertices[:, 1] = scale * vertices[:, 1] / (vertices[:, 2] + z_shift) + width / 2\n",
    "vertices[:, 2] *= init_scale\n",
    "\n",
    "x_degree = 5\n",
    "X_rotate = np.array([[1, 0, 0], [0, cos(x_degree), -sin(x_degree)], [0, sin(x_degree), cos(x_degree)]])"
   ]
  },
  {
   "cell_type": "code",
   "execution_count": 31,
   "id": "e81f1173-c254-4c62-a193-db4108b8ce59",
   "metadata": {},
   "outputs": [],
   "source": [
    "images = list()\n",
    "for angle in range(72):\n",
    "    matrix = np.full(shape=(height, width, 3), fill_value=[0, 0, 0], dtype = np.uint8)\n",
    "    z_buffer = np.full(shape=(height, width), fill_value=np.inf)\n",
    "    \n",
    "    for triangle in faces:\n",
    "        norm = find_norm(vertices[triangle[0]], vertices[triangle[1]], vertices[triangle[2]])\n",
    "        angle = np.dot(norm, l)/np.linalg.norm(norm)\n",
    "        if (angle < 0):\n",
    "            draw_triangle(matrix, vertices[triangle[0]], vertices[triangle[1]], vertices[triangle[2]], height, width, white * angle, z_buffer)\n",
    "\n",
    "    vertices = (X_rotate @ vertices.T).T\n",
    "    images.append(Image.fromarray(matrix, 'RGB'))"
   ]
  },
  {
   "cell_type": "code",
   "execution_count": 32,
   "id": "f7dbde0c-0cd7-4c07-9690-b08788a3a527",
   "metadata": {},
   "outputs": [],
   "source": [
    "images[0].save(\n",
    "    'rabbit.gif',\n",
    "    save_all=True,\n",
    "    append_images=images[1:],\n",
    "    optimize=False,\n",
    "    duration=100,\n",
    "    loop=0\n",
    ")"
   ]
  },
  {
   "cell_type": "code",
   "execution_count": null,
   "id": "a7b304ec-45c0-409c-b729-ff58fa4c74be",
   "metadata": {},
   "outputs": [],
   "source": []
  }
 ],
 "metadata": {
  "kernelspec": {
   "display_name": "Python 3 (ipykernel)",
   "language": "python",
   "name": "python3"
  },
  "language_info": {
   "codemirror_mode": {
    "name": "ipython",
    "version": 3
   },
   "file_extension": ".py",
   "mimetype": "text/x-python",
   "name": "python",
   "nbconvert_exporter": "python",
   "pygments_lexer": "ipython3",
   "version": "3.12.5"
  }
 },
 "nbformat": 4,
 "nbformat_minor": 5
}
